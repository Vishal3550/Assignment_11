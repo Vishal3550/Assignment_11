{
 "cells": [
  {
   "cell_type": "code",
   "execution_count": 1,
   "id": "c2d534ed-7427-4c2d-8ded-8307db3cd0b5",
   "metadata": {},
   "outputs": [],
   "source": [
    "# Q1. Which function is used to open a file? What are the different modes of opening a file? Explain each mode of file opening.\n",
    "\n",
    "# Answer:-In Python, we use the open() method to open files.\n",
    "#\n",
    "#         Mode\tDescription\n",
    "#          r\tOpen a file for reading. (default)\n",
    "#          w\tOpen a file for writing. Creates a new file if it does not exist or truncates the file if it exists.\n",
    "#          x\tOpen a file for exclusive creation. If the file already exists, the operation fails.\n",
    "#          a\tOpen a file for appending at the end of the file without truncating it. Creates a new file if it does not exist.\n",
    "#          t\tOpen in text mode. (default)\n",
    "#          b\tOpen in binary mode.\n",
    "#          +\tOpen a file for updating (reading and writing)"
   ]
  },
  {
   "cell_type": "code",
   "execution_count": 2,
   "id": "1465e1ca-2322-4c26-95c2-9239af870b9e",
   "metadata": {},
   "outputs": [],
   "source": [
    "# Q2. Why close() function is used? Why is it important to close a file?\n",
    "\n",
    "#  * The close() method closes an open file. You should always close your files, in some cases, due to buffering, \n",
    "#    changes made to a file may not show until you close the file.\n",
    "\n",
    "#  * Because files are limited resources managed by the operating system, making sure files are closed after use will protect \n",
    "#    against hard-to-debug issues like running out of file handles or experiencing corrupted data. \n",
    "#    The best defense is always to open files with a context manager."
   ]
  },
  {
   "cell_type": "code",
   "execution_count": 11,
   "id": "a214bc31-e7b2-44d6-b509-08149b2e3b7c",
   "metadata": {},
   "outputs": [
    {
     "name": "stdout",
     "output_type": "stream",
     "text": [
      "I want to become a Data Scientist\n"
     ]
    }
   ],
   "source": [
    "# Q3.Write a python program to create a text file.Write ‘I want to become a Data Scientist’ in that file.\n",
    "#   Then close the file. Open this file and read the content of the file.\n",
    "\n",
    "f = open(\"demofile1.txt\", \"a\")\n",
    "f.write(\"I want to become a Data Scientist\")\n",
    "f.close()\n",
    "\n",
    "f = open(\"demofile1.txt\", \"r\")\n",
    "print(f.read())\n"
   ]
  },
  {
   "cell_type": "code",
   "execution_count": 13,
   "id": "616c72de-bf23-489f-b479-8265b9857d94",
   "metadata": {},
   "outputs": [
    {
     "name": "stdout",
     "output_type": "stream",
     "text": [
      "I want to become a Data Scientist\n"
     ]
    }
   ],
   "source": [
    "# Q4. Explain the following with python code: read(), readline() and readlines().\n",
    "\n",
    "f = open(\"demofile3.txt\", \"a\")\n",
    "f.write(\"I want to become a Data Scientist\")\n",
    "f.close()\n",
    "\n",
    "f = open(\"demofile3.txt\", \"r\")\n",
    "print(f.read())\n",
    "\n"
   ]
  },
  {
   "cell_type": "code",
   "execution_count": 14,
   "id": "6fe7d3bd-9583-458d-89a4-52d3c8e65b17",
   "metadata": {},
   "outputs": [
    {
     "name": "stdout",
     "output_type": "stream",
     "text": [
      "['I want to become a Data Scientist']\n"
     ]
    }
   ],
   "source": [
    "f = open(\"demofile.txt\", \"a\")\n",
    "f.write(\"I want to become a Data Scientist\")\n",
    "f.close()\n",
    "\n",
    "file = open(\"demofile.txt\",\"r\")\n",
    "print(file.readlines())"
   ]
  },
  {
   "cell_type": "code",
   "execution_count": 16,
   "id": "0690ffac-6bcb-4de2-8d5b-41cab38f0235",
   "metadata": {},
   "outputs": [
    {
     "data": {
      "text/plain": [
       "'I want to become a Data Scientist'"
      ]
     },
     "execution_count": 16,
     "metadata": {},
     "output_type": "execute_result"
    }
   ],
   "source": [
    "f = open(\"demofile4.txt\", \"a\")\n",
    "f.write(\"I want to become a Data Scientist\")\n",
    "f.close()\n",
    "\n",
    "file = open(\"demofile4.txt\",\"r\")\n",
    "file.readline()"
   ]
  },
  {
   "cell_type": "code",
   "execution_count": 17,
   "id": "42e1ff68-b935-4160-a888-0acf288456ef",
   "metadata": {},
   "outputs": [],
   "source": [
    "# Q5. Explain why with statement is used with open(). What is the advantage of using with statement and open() together?\n",
    "\n",
    "# Answer:-The open() function opens a file, and returns it as a file object. \n",
    "#         Read more about file handling in our chapters about File Handling.\n",
    "\n",
    "# * The with statement in Python replaces a try-catch block with a simple shorthand.\n",
    "# * More significantly, it ensures that resources are closed immediately after processing.\n",
    "# * Reading or writing to a file is a common use of the with statement.\n",
    "# * A context manager is a function or class that supports the with statement. \n",
    "#   A context manager enables you to open and close resources right when you want to.\n",
    "# * The open() function, for example, is a context manager. When you use the with statement to call the open() function, \n",
    "#   the file closes automatically after you've processed it."
   ]
  },
  {
   "cell_type": "code",
   "execution_count": 20,
   "id": "f6fdd617-5c4c-4a58-bbfc-58e1ef71d0c6",
   "metadata": {},
   "outputs": [
    {
     "name": "stdout",
     "output_type": "stream",
     "text": [
      "See you soon!\n"
     ]
    }
   ],
   "source": [
    "# Q6. Explain the write() and writelines() functions. Give a suitable example.\n",
    "\n",
    "f = open(\"demofile6.txt\", \"a\")\n",
    "f.write(\"See you soon!\")\n",
    "f.close()\n",
    "\n",
    "f = open(\"demofile6.txt\", \"r\")\n",
    "print(f.read())"
   ]
  },
  {
   "cell_type": "code",
   "execution_count": 21,
   "id": "ee65e347-9309-4d87-b350-6f79758ed13a",
   "metadata": {},
   "outputs": [
    {
     "name": "stdout",
     "output_type": "stream",
     "text": [
      "See you soon!Over and out.\n"
     ]
    }
   ],
   "source": [
    "f = open(\"demofile7.txt\", \"a\")\n",
    "f.writelines([\"See you soon!\", \"Over and out.\"])\n",
    "f.close()\n",
    "\n",
    "f = open(\"demofile7.txt\", \"r\")\n",
    "print(f.read())\n"
   ]
  },
  {
   "cell_type": "code",
   "execution_count": null,
   "id": "d3b3ba59-0fda-4b01-a744-31c118bc83a2",
   "metadata": {},
   "outputs": [],
   "source": []
  }
 ],
 "metadata": {
  "kernelspec": {
   "display_name": "Python 3 (ipykernel)",
   "language": "python",
   "name": "python3"
  },
  "language_info": {
   "codemirror_mode": {
    "name": "ipython",
    "version": 3
   },
   "file_extension": ".py",
   "mimetype": "text/x-python",
   "name": "python",
   "nbconvert_exporter": "python",
   "pygments_lexer": "ipython3",
   "version": "3.10.8"
  }
 },
 "nbformat": 4,
 "nbformat_minor": 5
}
